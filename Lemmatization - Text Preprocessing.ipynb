{
 "cells": [
  {
   "cell_type": "markdown",
   "id": "eb326ec2",
   "metadata": {},
   "source": [
    "## Wordnet Lemmatizer"
   ]
  },
  {
   "cell_type": "code",
   "execution_count": 1,
   "id": "4a3b4b4d",
   "metadata": {},
   "outputs": [],
   "source": [
    "## Q&A, chatbots, text summerization --> Used for\n",
    "from nltk.stem import WordNetLemmatizer"
   ]
  },
  {
   "cell_type": "code",
   "execution_count": 21,
   "id": "71062887",
   "metadata": {},
   "outputs": [],
   "source": [
    "lemmatizer = WordNetLemmatizer()"
   ]
  },
  {
   "cell_type": "code",
   "execution_count": 22,
   "id": "d545c644",
   "metadata": {},
   "outputs": [
    {
     "data": {
      "text/plain": [
       "'go'"
      ]
     },
     "execution_count": 22,
     "metadata": {},
     "output_type": "execute_result"
    }
   ],
   "source": [
    "'''\n",
    "POS - \n",
    "Noun - n\n",
    "Verb - v\n",
    "adjective - a\n",
    "adverb - r\n",
    "'''\n",
    "lemmatizer.lemmatize('going', pos = 'v')"
   ]
  },
  {
   "cell_type": "code",
   "execution_count": 23,
   "id": "e3262e58",
   "metadata": {},
   "outputs": [],
   "source": [
    "words = ['eating', 'eats', 'eaten', 'writing', 'writes', 'programming','programs','history', 'finally', 'finalized']"
   ]
  },
  {
   "cell_type": "code",
   "execution_count": 28,
   "id": "b02194c3",
   "metadata": {
    "scrolled": true
   },
   "outputs": [
    {
     "name": "stdout",
     "output_type": "stream",
     "text": [
      "eating ---> eat\n",
      "eats ---> eat\n",
      "eaten ---> eat\n",
      "writing ---> write\n",
      "writes ---> write\n",
      "programming ---> program\n",
      "programs ---> program\n",
      "history ---> history\n",
      "finally ---> finally\n",
      "finalized ---> finalize\n"
     ]
    }
   ],
   "source": [
    "for word in words:\n",
    "    lemmatized_word = lemmatizer.lemmatize(word, pos= 'v')\n",
    "    print(word + \" ---> \" + lemmatized_word)"
   ]
  },
  {
   "cell_type": "code",
   "execution_count": 30,
   "id": "2e315784",
   "metadata": {},
   "outputs": [
    {
     "data": {
      "text/plain": [
       "'go'"
      ]
     },
     "execution_count": 30,
     "metadata": {},
     "output_type": "execute_result"
    }
   ],
   "source": [
    "lemmatizer.lemmatize('goes', pos='v')"
   ]
  },
  {
   "cell_type": "code",
   "execution_count": 32,
   "id": "8095f963",
   "metadata": {},
   "outputs": [
    {
     "data": {
      "text/plain": [
       "('fairly', 'sportingly')"
      ]
     },
     "execution_count": 32,
     "metadata": {},
     "output_type": "execute_result"
    }
   ],
   "source": [
    "lemmatizer.lemmatize('fairly', pos = 'v'), lemmatizer.lemmatize('sportingly')"
   ]
  },
  {
   "cell_type": "code",
   "execution_count": null,
   "id": "1998e15e",
   "metadata": {},
   "outputs": [],
   "source": []
  }
 ],
 "metadata": {
  "kernelspec": {
   "display_name": "Python 3 (ipykernel)",
   "language": "python",
   "name": "python3"
  },
  "language_info": {
   "codemirror_mode": {
    "name": "ipython",
    "version": 3
   },
   "file_extension": ".py",
   "mimetype": "text/x-python",
   "name": "python",
   "nbconvert_exporter": "python",
   "pygments_lexer": "ipython3",
   "version": "3.10.7"
  }
 },
 "nbformat": 4,
 "nbformat_minor": 5
}
